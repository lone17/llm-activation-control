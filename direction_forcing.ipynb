{
 "cells": [
  {
   "cell_type": "code",
   "execution_count": 1,
   "metadata": {},
   "outputs": [
    {
     "name": "stderr",
     "output_type": "stream",
     "text": [
      "/home/ian/miniconda3/envs/llm-activation-control/lib/python3.12/site-packages/tqdm/auto.py:21: TqdmWarning: IProgress not found. Please update jupyter and ipywidgets. See https://ipywidgets.readthedocs.io/en/stable/user_install.html\n",
      "  from .autonotebook import tqdm as notebook_tqdm\n"
     ]
    }
   ],
   "source": [
    "import numpy as np\n",
    "import torch\n",
    "from torch import nn\n",
    "from transformers import AutoModelForCausalLM"
   ]
  },
  {
   "cell_type": "code",
   "execution_count": 2,
   "metadata": {},
   "outputs": [],
   "source": [
    "class TransformerDecoderBlockWithForcedDirection(nn.Module):\n",
    "    def __init__(self, decoder_layer, forced_direction: torch.Tensor = None):\n",
    "        super().__init__()\n",
    "\n",
    "        self.decoder_layer = decoder_layer\n",
    "\n",
    "        scale = nn.Parameter(\n",
    "            torch.tensor(0.0, dtype=decoder_layer.dtype), requires_grad=True\n",
    "        )\n",
    "        scale.to(decoder_layer.device)\n",
    "        self.scale = scale\n",
    "\n",
    "        if not isinstance(forced_direction, torch.Tensor):\n",
    "            forced_direction = torch.tensor(forced_direction)\n",
    "        forced_direction = forced_direction.to(\n",
    "            decoder_layer.device, dtype=decoder_layer.dtype\n",
    "        )\n",
    "        self.forced_direction = forced_direction\n",
    "\n",
    "    def forward(self, x, **kwargs):\n",
    "        x = self.decoder_layer(x, **kwargs)\n",
    "        x += self.scale * self.forced_direction\n",
    "\n",
    "        return x"
   ]
  },
  {
   "cell_type": "code",
   "execution_count": 3,
   "metadata": {},
   "outputs": [
    {
     "name": "stderr",
     "output_type": "stream",
     "text": [
      "Loading checkpoint shards: 100%|██████████| 4/4 [00:06<00:00,  1.59s/it]\n"
     ]
    },
    {
     "data": {
      "text/plain": [
       "Qwen2ForCausalLM(\n",
       "  (model): Qwen2Model(\n",
       "    (embed_tokens): Embedding(152064, 3584)\n",
       "    (layers): ModuleList(\n",
       "      (0-27): 28 x Qwen2DecoderLayer(\n",
       "        (self_attn): Qwen2SdpaAttention(\n",
       "          (q_proj): Linear(in_features=3584, out_features=3584, bias=True)\n",
       "          (k_proj): Linear(in_features=3584, out_features=512, bias=True)\n",
       "          (v_proj): Linear(in_features=3584, out_features=512, bias=True)\n",
       "          (o_proj): Linear(in_features=3584, out_features=3584, bias=False)\n",
       "          (rotary_emb): Qwen2RotaryEmbedding()\n",
       "        )\n",
       "        (mlp): Qwen2MLP(\n",
       "          (gate_proj): Linear(in_features=3584, out_features=18944, bias=False)\n",
       "          (up_proj): Linear(in_features=3584, out_features=18944, bias=False)\n",
       "          (down_proj): Linear(in_features=18944, out_features=3584, bias=False)\n",
       "          (act_fn): SiLU()\n",
       "        )\n",
       "        (input_layernorm): Qwen2RMSNorm((3584,), eps=1e-06)\n",
       "        (post_attention_layernorm): Qwen2RMSNorm((3584,), eps=1e-06)\n",
       "      )\n",
       "    )\n",
       "    (norm): Qwen2RMSNorm((3584,), eps=1e-06)\n",
       "    (rotary_emb): Qwen2RotaryEmbedding()\n",
       "  )\n",
       "  (lm_head): Linear(in_features=3584, out_features=152064, bias=False)\n",
       ")"
      ]
     },
     "execution_count": 3,
     "metadata": {},
     "output_type": "execute_result"
    }
   ],
   "source": [
    "model = AutoModelForCausalLM.from_pretrained(\"Qwen/Qwen2.5-7B-Instruct\")\n",
    "for param in model.parameters():\n",
    "    param.requires_grad = False\n",
    "\n",
    "model.to(\"cuda:7\")"
   ]
  },
  {
   "cell_type": "code",
   "execution_count": 4,
   "metadata": {},
   "outputs": [],
   "source": [
    "random_direction = np.random.normal(0, 1, size=model.config.hidden_size)\n",
    "random_direction /= np.linalg.norm(random_direction)"
   ]
  },
  {
   "cell_type": "code",
   "execution_count": 5,
   "metadata": {},
   "outputs": [
    {
     "data": {
      "text/plain": [
       "ModuleList(\n",
       "  (0-27): 28 x Qwen2DecoderLayer(\n",
       "    (self_attn): Qwen2SdpaAttention(\n",
       "      (q_proj): Linear(in_features=3584, out_features=3584, bias=True)\n",
       "      (k_proj): Linear(in_features=3584, out_features=512, bias=True)\n",
       "      (v_proj): Linear(in_features=3584, out_features=512, bias=True)\n",
       "      (o_proj): Linear(in_features=3584, out_features=3584, bias=False)\n",
       "      (rotary_emb): Qwen2RotaryEmbedding()\n",
       "    )\n",
       "    (mlp): Qwen2MLP(\n",
       "      (gate_proj): Linear(in_features=3584, out_features=18944, bias=False)\n",
       "      (up_proj): Linear(in_features=3584, out_features=18944, bias=False)\n",
       "      (down_proj): Linear(in_features=18944, out_features=3584, bias=False)\n",
       "      (act_fn): SiLU()\n",
       "    )\n",
       "    (input_layernorm): Qwen2RMSNorm((3584,), eps=1e-06)\n",
       "    (post_attention_layernorm): Qwen2RMSNorm((3584,), eps=1e-06)\n",
       "  )\n",
       ")"
      ]
     },
     "execution_count": 5,
     "metadata": {},
     "output_type": "execute_result"
    }
   ],
   "source": [
    "model.model.layers"
   ]
  },
  {
   "cell_type": "code",
   "execution_count": null,
   "metadata": {},
   "outputs": [],
   "source": [
    "target_layers = [13, 14, 15]\n",
    "\n",
    "for layer in target_layers:\n",
    "    layer_device = model.model.layers[layer].device\n",
    "    model.model.layers[layer] = TransformerDecoderBlockWithForcedDirection(\n",
    "        model.model.layers[layer], forced_direction=torch.tensor(random_direction)\n",
    "    )"
   ]
  },
  {
   "cell_type": "code",
   "execution_count": null,
   "metadata": {},
   "outputs": [],
   "source": [
    "model = AutoModelForCausalLM.from_pretrained(\"openai/gpt-3\")"
   ]
  }
 ],
 "metadata": {
  "kernelspec": {
   "display_name": "llm-activation-control",
   "language": "python",
   "name": "python3"
  },
  "language_info": {
   "codemirror_mode": {
    "name": "ipython",
    "version": 3
   },
   "file_extension": ".py",
   "mimetype": "text/x-python",
   "name": "python",
   "nbconvert_exporter": "python",
   "pygments_lexer": "ipython3",
   "version": "3.12.7"
  }
 },
 "nbformat": 4,
 "nbformat_minor": 2
}
